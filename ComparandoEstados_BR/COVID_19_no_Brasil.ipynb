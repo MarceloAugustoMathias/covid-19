{
  "nbformat": 4,
  "nbformat_minor": 0,
  "metadata": {
    "colab": {
      "name": "COVID-19 no Brasil.ipynb",
      "provenance": []
    },
    "kernelspec": {
      "name": "python3",
      "display_name": "Python 3"
    }
  },
  "cells": [
    {
      "cell_type": "markdown",
      "metadata": {
        "id": "1Vc5vR0Bt49N",
        "colab_type": "text"
      },
      "source": [
        "## **Dataset**\n",
        "[https://brasil.io/dataset/covid19/caso](https://brasil.io/dataset/covid19/caso)"
      ]
    },
    {
      "cell_type": "code",
      "metadata": {
        "id": "jjwRaeNTspHv",
        "colab_type": "code",
        "colab": {}
      },
      "source": [
        "import pandas as pd\n",
        "import numpy as np"
      ],
      "execution_count": 0,
      "outputs": []
    },
    {
      "cell_type": "code",
      "metadata": {
        "id": "KwJpL_o3t3t_",
        "colab_type": "code",
        "colab": {}
      },
      "source": [
        "df = pd.read_csv('https://raw.githubusercontent.com/MarceloAugustoMathias/covid-19/master/ComparandoEstados_BR/covid-brasil.csv')"
      ],
      "execution_count": 0,
      "outputs": []
    },
    {
      "cell_type": "code",
      "metadata": {
        "id": "1tylkEa7ucwx",
        "colab_type": "code",
        "outputId": "4df75cbe-41f3-48ca-9bf2-6c1313a3a160",
        "colab": {
          "base_uri": "https://localhost:8080/",
          "height": 419
        }
      },
      "source": [
        "df"
      ],
      "execution_count": 168,
      "outputs": [
        {
          "output_type": "execute_result",
          "data": {
            "text/html": [
              "<div>\n",
              "<style scoped>\n",
              "    .dataframe tbody tr th:only-of-type {\n",
              "        vertical-align: middle;\n",
              "    }\n",
              "\n",
              "    .dataframe tbody tr th {\n",
              "        vertical-align: top;\n",
              "    }\n",
              "\n",
              "    .dataframe thead th {\n",
              "        text-align: right;\n",
              "    }\n",
              "</style>\n",
              "<table border=\"1\" class=\"dataframe\">\n",
              "  <thead>\n",
              "    <tr style=\"text-align: right;\">\n",
              "      <th></th>\n",
              "      <th>date</th>\n",
              "      <th>state</th>\n",
              "      <th>city</th>\n",
              "      <th>place_type</th>\n",
              "      <th>confirmed</th>\n",
              "      <th>deaths</th>\n",
              "      <th>is_last</th>\n",
              "      <th>estimated_population_2019</th>\n",
              "      <th>city_ibge_code</th>\n",
              "      <th>confirmed_per_100k_inhabitants</th>\n",
              "      <th>death_rate</th>\n",
              "    </tr>\n",
              "  </thead>\n",
              "  <tbody>\n",
              "    <tr>\n",
              "      <th>0</th>\n",
              "      <td>2020-04-01</td>\n",
              "      <td>AC</td>\n",
              "      <td>Acrelândia</td>\n",
              "      <td>city</td>\n",
              "      <td>8</td>\n",
              "      <td>0.0</td>\n",
              "      <td>True</td>\n",
              "      <td>15256.0</td>\n",
              "      <td>1200013.0</td>\n",
              "      <td>52.43838</td>\n",
              "      <td>NaN</td>\n",
              "    </tr>\n",
              "    <tr>\n",
              "      <th>1</th>\n",
              "      <td>2020-04-01</td>\n",
              "      <td>AC</td>\n",
              "      <td>Porto Acre</td>\n",
              "      <td>city</td>\n",
              "      <td>1</td>\n",
              "      <td>0.0</td>\n",
              "      <td>True</td>\n",
              "      <td>18504.0</td>\n",
              "      <td>1200807.0</td>\n",
              "      <td>5.40424</td>\n",
              "      <td>NaN</td>\n",
              "    </tr>\n",
              "    <tr>\n",
              "      <th>2</th>\n",
              "      <td>2020-04-01</td>\n",
              "      <td>AC</td>\n",
              "      <td>Rio Branco</td>\n",
              "      <td>city</td>\n",
              "      <td>34</td>\n",
              "      <td>0.0</td>\n",
              "      <td>True</td>\n",
              "      <td>407319.0</td>\n",
              "      <td>1200401.0</td>\n",
              "      <td>8.34727</td>\n",
              "      <td>NaN</td>\n",
              "    </tr>\n",
              "    <tr>\n",
              "      <th>3</th>\n",
              "      <td>2020-04-01</td>\n",
              "      <td>AC</td>\n",
              "      <td>NaN</td>\n",
              "      <td>state</td>\n",
              "      <td>43</td>\n",
              "      <td>0.0</td>\n",
              "      <td>True</td>\n",
              "      <td>881935.0</td>\n",
              "      <td>12.0</td>\n",
              "      <td>4.87564</td>\n",
              "      <td>NaN</td>\n",
              "    </tr>\n",
              "    <tr>\n",
              "      <th>4</th>\n",
              "      <td>2020-04-01</td>\n",
              "      <td>AL</td>\n",
              "      <td>Importados/Indefinidos</td>\n",
              "      <td>city</td>\n",
              "      <td>4</td>\n",
              "      <td>0.0</td>\n",
              "      <td>True</td>\n",
              "      <td>NaN</td>\n",
              "      <td>NaN</td>\n",
              "      <td>NaN</td>\n",
              "      <td>NaN</td>\n",
              "    </tr>\n",
              "    <tr>\n",
              "      <th>...</th>\n",
              "      <td>...</td>\n",
              "      <td>...</td>\n",
              "      <td>...</td>\n",
              "      <td>...</td>\n",
              "      <td>...</td>\n",
              "      <td>...</td>\n",
              "      <td>...</td>\n",
              "      <td>...</td>\n",
              "      <td>...</td>\n",
              "      <td>...</td>\n",
              "      <td>...</td>\n",
              "    </tr>\n",
              "    <tr>\n",
              "      <th>4069</th>\n",
              "      <td>2020-02-28</td>\n",
              "      <td>SP</td>\n",
              "      <td>NaN</td>\n",
              "      <td>state</td>\n",
              "      <td>2</td>\n",
              "      <td>NaN</td>\n",
              "      <td>False</td>\n",
              "      <td>45919049.0</td>\n",
              "      <td>35.0</td>\n",
              "      <td>0.00436</td>\n",
              "      <td>NaN</td>\n",
              "    </tr>\n",
              "    <tr>\n",
              "      <th>4070</th>\n",
              "      <td>2020-02-27</td>\n",
              "      <td>SP</td>\n",
              "      <td>São Paulo</td>\n",
              "      <td>city</td>\n",
              "      <td>1</td>\n",
              "      <td>NaN</td>\n",
              "      <td>False</td>\n",
              "      <td>12252023.0</td>\n",
              "      <td>3550308.0</td>\n",
              "      <td>0.00816</td>\n",
              "      <td>NaN</td>\n",
              "    </tr>\n",
              "    <tr>\n",
              "      <th>4071</th>\n",
              "      <td>2020-02-27</td>\n",
              "      <td>SP</td>\n",
              "      <td>NaN</td>\n",
              "      <td>state</td>\n",
              "      <td>1</td>\n",
              "      <td>NaN</td>\n",
              "      <td>False</td>\n",
              "      <td>45919049.0</td>\n",
              "      <td>35.0</td>\n",
              "      <td>0.00218</td>\n",
              "      <td>NaN</td>\n",
              "    </tr>\n",
              "    <tr>\n",
              "      <th>4072</th>\n",
              "      <td>2020-02-26</td>\n",
              "      <td>SP</td>\n",
              "      <td>São Paulo</td>\n",
              "      <td>city</td>\n",
              "      <td>1</td>\n",
              "      <td>NaN</td>\n",
              "      <td>False</td>\n",
              "      <td>12252023.0</td>\n",
              "      <td>3550308.0</td>\n",
              "      <td>0.00816</td>\n",
              "      <td>NaN</td>\n",
              "    </tr>\n",
              "    <tr>\n",
              "      <th>4073</th>\n",
              "      <td>2020-02-26</td>\n",
              "      <td>SP</td>\n",
              "      <td>NaN</td>\n",
              "      <td>state</td>\n",
              "      <td>1</td>\n",
              "      <td>NaN</td>\n",
              "      <td>False</td>\n",
              "      <td>45919049.0</td>\n",
              "      <td>35.0</td>\n",
              "      <td>0.00218</td>\n",
              "      <td>NaN</td>\n",
              "    </tr>\n",
              "  </tbody>\n",
              "</table>\n",
              "<p>4074 rows × 11 columns</p>\n",
              "</div>"
            ],
            "text/plain": [
              "            date state  ... confirmed_per_100k_inhabitants death_rate\n",
              "0     2020-04-01    AC  ...                       52.43838        NaN\n",
              "1     2020-04-01    AC  ...                        5.40424        NaN\n",
              "2     2020-04-01    AC  ...                        8.34727        NaN\n",
              "3     2020-04-01    AC  ...                        4.87564        NaN\n",
              "4     2020-04-01    AL  ...                            NaN        NaN\n",
              "...          ...   ...  ...                            ...        ...\n",
              "4069  2020-02-28    SP  ...                        0.00436        NaN\n",
              "4070  2020-02-27    SP  ...                        0.00816        NaN\n",
              "4071  2020-02-27    SP  ...                        0.00218        NaN\n",
              "4072  2020-02-26    SP  ...                        0.00816        NaN\n",
              "4073  2020-02-26    SP  ...                        0.00218        NaN\n",
              "\n",
              "[4074 rows x 11 columns]"
            ]
          },
          "metadata": {
            "tags": []
          },
          "execution_count": 168
        }
      ]
    },
    {
      "cell_type": "code",
      "metadata": {
        "id": "KRTaPQvhudYB",
        "colab_type": "code",
        "outputId": "6ba327a7-e130-4d39-9e69-87357857dec9",
        "colab": {
          "base_uri": "https://localhost:8080/",
          "height": 85
        }
      },
      "source": [
        "df.columns"
      ],
      "execution_count": 139,
      "outputs": [
        {
          "output_type": "execute_result",
          "data": {
            "text/plain": [
              "Index(['date', 'state', 'city', 'place_type', 'confirmed', 'deaths', 'is_last',\n",
              "       'estimated_population_2019', 'city_ibge_code',\n",
              "       'confirmed_per_100k_inhabitants', 'death_rate'],\n",
              "      dtype='object')"
            ]
          },
          "metadata": {
            "tags": []
          },
          "execution_count": 139
        }
      ]
    },
    {
      "cell_type": "code",
      "metadata": {
        "id": "cX29rAsT2nq0",
        "colab_type": "code",
        "colab": {}
      },
      "source": [
        "df.columns = ['Data', 'Estado', 'Cidade', 'Tipo_Local', 'Confirmados', 'Mortes', 'E_Ultimo', 'Pop_Estimada_2019', 'Codigo_IBGE', 'Confirmados_por100k', 'Taxa_Mortalidade']"
      ],
      "execution_count": 0,
      "outputs": []
    },
    {
      "cell_type": "code",
      "metadata": {
        "id": "7GxEUpw13EhW",
        "colab_type": "code",
        "outputId": "e3a790ad-6d00-4164-ab20-bfa516788a7f",
        "colab": {
          "base_uri": "https://localhost:8080/",
          "height": 204
        }
      },
      "source": [
        "df.tail()"
      ],
      "execution_count": 141,
      "outputs": [
        {
          "output_type": "execute_result",
          "data": {
            "text/html": [
              "<div>\n",
              "<style scoped>\n",
              "    .dataframe tbody tr th:only-of-type {\n",
              "        vertical-align: middle;\n",
              "    }\n",
              "\n",
              "    .dataframe tbody tr th {\n",
              "        vertical-align: top;\n",
              "    }\n",
              "\n",
              "    .dataframe thead th {\n",
              "        text-align: right;\n",
              "    }\n",
              "</style>\n",
              "<table border=\"1\" class=\"dataframe\">\n",
              "  <thead>\n",
              "    <tr style=\"text-align: right;\">\n",
              "      <th></th>\n",
              "      <th>Data</th>\n",
              "      <th>Estado</th>\n",
              "      <th>Cidade</th>\n",
              "      <th>Tipo_Local</th>\n",
              "      <th>Confirmados</th>\n",
              "      <th>Mortes</th>\n",
              "      <th>E_Ultimo</th>\n",
              "      <th>Pop_Estimada_2019</th>\n",
              "      <th>Codigo_IBGE</th>\n",
              "      <th>Confirmados_por100k</th>\n",
              "      <th>Taxa_Mortalidade</th>\n",
              "    </tr>\n",
              "  </thead>\n",
              "  <tbody>\n",
              "    <tr>\n",
              "      <th>4069</th>\n",
              "      <td>2020-02-28</td>\n",
              "      <td>SP</td>\n",
              "      <td>NaN</td>\n",
              "      <td>state</td>\n",
              "      <td>2</td>\n",
              "      <td>NaN</td>\n",
              "      <td>False</td>\n",
              "      <td>45919049.0</td>\n",
              "      <td>35.0</td>\n",
              "      <td>0.00436</td>\n",
              "      <td>NaN</td>\n",
              "    </tr>\n",
              "    <tr>\n",
              "      <th>4070</th>\n",
              "      <td>2020-02-27</td>\n",
              "      <td>SP</td>\n",
              "      <td>São Paulo</td>\n",
              "      <td>city</td>\n",
              "      <td>1</td>\n",
              "      <td>NaN</td>\n",
              "      <td>False</td>\n",
              "      <td>12252023.0</td>\n",
              "      <td>3550308.0</td>\n",
              "      <td>0.00816</td>\n",
              "      <td>NaN</td>\n",
              "    </tr>\n",
              "    <tr>\n",
              "      <th>4071</th>\n",
              "      <td>2020-02-27</td>\n",
              "      <td>SP</td>\n",
              "      <td>NaN</td>\n",
              "      <td>state</td>\n",
              "      <td>1</td>\n",
              "      <td>NaN</td>\n",
              "      <td>False</td>\n",
              "      <td>45919049.0</td>\n",
              "      <td>35.0</td>\n",
              "      <td>0.00218</td>\n",
              "      <td>NaN</td>\n",
              "    </tr>\n",
              "    <tr>\n",
              "      <th>4072</th>\n",
              "      <td>2020-02-26</td>\n",
              "      <td>SP</td>\n",
              "      <td>São Paulo</td>\n",
              "      <td>city</td>\n",
              "      <td>1</td>\n",
              "      <td>NaN</td>\n",
              "      <td>False</td>\n",
              "      <td>12252023.0</td>\n",
              "      <td>3550308.0</td>\n",
              "      <td>0.00816</td>\n",
              "      <td>NaN</td>\n",
              "    </tr>\n",
              "    <tr>\n",
              "      <th>4073</th>\n",
              "      <td>2020-02-26</td>\n",
              "      <td>SP</td>\n",
              "      <td>NaN</td>\n",
              "      <td>state</td>\n",
              "      <td>1</td>\n",
              "      <td>NaN</td>\n",
              "      <td>False</td>\n",
              "      <td>45919049.0</td>\n",
              "      <td>35.0</td>\n",
              "      <td>0.00218</td>\n",
              "      <td>NaN</td>\n",
              "    </tr>\n",
              "  </tbody>\n",
              "</table>\n",
              "</div>"
            ],
            "text/plain": [
              "            Data Estado  ... Confirmados_por100k Taxa_Mortalidade\n",
              "4069  2020-02-28     SP  ...             0.00436              NaN\n",
              "4070  2020-02-27     SP  ...             0.00816              NaN\n",
              "4071  2020-02-27     SP  ...             0.00218              NaN\n",
              "4072  2020-02-26     SP  ...             0.00816              NaN\n",
              "4073  2020-02-26     SP  ...             0.00218              NaN\n",
              "\n",
              "[5 rows x 11 columns]"
            ]
          },
          "metadata": {
            "tags": []
          },
          "execution_count": 141
        }
      ]
    },
    {
      "cell_type": "code",
      "metadata": {
        "id": "j1a6kBMFukLo",
        "colab_type": "code",
        "outputId": "86fd7760-7b93-401d-f8eb-de60657e4f85",
        "colab": {
          "base_uri": "https://localhost:8080/",
          "height": 204
        }
      },
      "source": [
        "#loc[ linhas , colunas ]\n",
        "estados = df.loc[df.Tipo_Local == 'state', : ]\n",
        "estados.head()"
      ],
      "execution_count": 142,
      "outputs": [
        {
          "output_type": "execute_result",
          "data": {
            "text/html": [
              "<div>\n",
              "<style scoped>\n",
              "    .dataframe tbody tr th:only-of-type {\n",
              "        vertical-align: middle;\n",
              "    }\n",
              "\n",
              "    .dataframe tbody tr th {\n",
              "        vertical-align: top;\n",
              "    }\n",
              "\n",
              "    .dataframe thead th {\n",
              "        text-align: right;\n",
              "    }\n",
              "</style>\n",
              "<table border=\"1\" class=\"dataframe\">\n",
              "  <thead>\n",
              "    <tr style=\"text-align: right;\">\n",
              "      <th></th>\n",
              "      <th>Data</th>\n",
              "      <th>Estado</th>\n",
              "      <th>Cidade</th>\n",
              "      <th>Tipo_Local</th>\n",
              "      <th>Confirmados</th>\n",
              "      <th>Mortes</th>\n",
              "      <th>E_Ultimo</th>\n",
              "      <th>Pop_Estimada_2019</th>\n",
              "      <th>Codigo_IBGE</th>\n",
              "      <th>Confirmados_por100k</th>\n",
              "      <th>Taxa_Mortalidade</th>\n",
              "    </tr>\n",
              "  </thead>\n",
              "  <tbody>\n",
              "    <tr>\n",
              "      <th>3</th>\n",
              "      <td>2020-04-01</td>\n",
              "      <td>AC</td>\n",
              "      <td>NaN</td>\n",
              "      <td>state</td>\n",
              "      <td>43</td>\n",
              "      <td>0.0</td>\n",
              "      <td>True</td>\n",
              "      <td>881935.0</td>\n",
              "      <td>12.0</td>\n",
              "      <td>4.87564</td>\n",
              "      <td>NaN</td>\n",
              "    </tr>\n",
              "    <tr>\n",
              "      <th>7</th>\n",
              "      <td>2020-04-01</td>\n",
              "      <td>AL</td>\n",
              "      <td>NaN</td>\n",
              "      <td>state</td>\n",
              "      <td>18</td>\n",
              "      <td>1.0</td>\n",
              "      <td>True</td>\n",
              "      <td>3337357.0</td>\n",
              "      <td>27.0</td>\n",
              "      <td>0.53935</td>\n",
              "      <td>0.0556</td>\n",
              "    </tr>\n",
              "    <tr>\n",
              "      <th>17</th>\n",
              "      <td>2020-04-01</td>\n",
              "      <td>AM</td>\n",
              "      <td>NaN</td>\n",
              "      <td>state</td>\n",
              "      <td>200</td>\n",
              "      <td>3.0</td>\n",
              "      <td>True</td>\n",
              "      <td>4144597.0</td>\n",
              "      <td>13.0</td>\n",
              "      <td>4.82556</td>\n",
              "      <td>0.0150</td>\n",
              "    </tr>\n",
              "    <tr>\n",
              "      <th>19</th>\n",
              "      <td>2020-04-01</td>\n",
              "      <td>AP</td>\n",
              "      <td>NaN</td>\n",
              "      <td>state</td>\n",
              "      <td>11</td>\n",
              "      <td>0.0</td>\n",
              "      <td>True</td>\n",
              "      <td>845731.0</td>\n",
              "      <td>16.0</td>\n",
              "      <td>1.30065</td>\n",
              "      <td>NaN</td>\n",
              "    </tr>\n",
              "    <tr>\n",
              "      <th>54</th>\n",
              "      <td>2020-04-01</td>\n",
              "      <td>BA</td>\n",
              "      <td>NaN</td>\n",
              "      <td>state</td>\n",
              "      <td>246</td>\n",
              "      <td>2.0</td>\n",
              "      <td>True</td>\n",
              "      <td>14873064.0</td>\n",
              "      <td>29.0</td>\n",
              "      <td>1.65400</td>\n",
              "      <td>0.0081</td>\n",
              "    </tr>\n",
              "  </tbody>\n",
              "</table>\n",
              "</div>"
            ],
            "text/plain": [
              "          Data Estado  ... Confirmados_por100k Taxa_Mortalidade\n",
              "3   2020-04-01     AC  ...             4.87564              NaN\n",
              "7   2020-04-01     AL  ...             0.53935           0.0556\n",
              "17  2020-04-01     AM  ...             4.82556           0.0150\n",
              "19  2020-04-01     AP  ...             1.30065              NaN\n",
              "54  2020-04-01     BA  ...             1.65400           0.0081\n",
              "\n",
              "[5 rows x 11 columns]"
            ]
          },
          "metadata": {
            "tags": []
          },
          "execution_count": 142
        }
      ]
    },
    {
      "cell_type": "code",
      "metadata": {
        "id": "yQZBDqFa3YCi",
        "colab_type": "code",
        "outputId": "bdde1143-7cd6-4eb9-8387-f850cdf7c2f2",
        "colab": {
          "base_uri": "https://localhost:8080/",
          "height": 68
        }
      },
      "source": [
        "estados.Estado.unique()"
      ],
      "execution_count": 143,
      "outputs": [
        {
          "output_type": "execute_result",
          "data": {
            "text/plain": [
              "array(['AC', 'AL', 'AM', 'AP', 'BA', 'CE', 'DF', 'ES', 'GO', 'MA', 'MG',\n",
              "       'MS', 'MT', 'PA', 'PB', 'PE', 'PI', 'PR', 'RJ', 'RN', 'RO', 'RR',\n",
              "       'RS', 'SC', 'SE', 'SP', 'TO'], dtype=object)"
            ]
          },
          "metadata": {
            "tags": []
          },
          "execution_count": 143
        }
      ]
    },
    {
      "cell_type": "code",
      "metadata": {
        "id": "ACRYVLF9TtIi",
        "colab_type": "code",
        "colab": {
          "base_uri": "https://localhost:8080/",
          "height": 34
        },
        "outputId": "0898ccd8-eba8-4a45-90db-059d92f40979"
      },
      "source": [
        "len(estados.Estado.unique())"
      ],
      "execution_count": 144,
      "outputs": [
        {
          "output_type": "execute_result",
          "data": {
            "text/plain": [
              "27"
            ]
          },
          "metadata": {
            "tags": []
          },
          "execution_count": 144
        }
      ]
    },
    {
      "cell_type": "code",
      "metadata": {
        "id": "pUaGLCg6Gkmb",
        "colab_type": "code",
        "colab": {}
      },
      "source": [
        "data = estados[['Data', 'Estado', 'Confirmados', 'Mortes', 'E_Ultimo']]"
      ],
      "execution_count": 0,
      "outputs": []
    },
    {
      "cell_type": "code",
      "metadata": {
        "id": "MezdchI4HAQN",
        "colab_type": "code",
        "colab": {
          "base_uri": "https://localhost:8080/",
          "height": 204
        },
        "outputId": "5b0f0a97-734f-4c36-fb27-fd68f7162673"
      },
      "source": [
        "data.head()"
      ],
      "execution_count": 146,
      "outputs": [
        {
          "output_type": "execute_result",
          "data": {
            "text/html": [
              "<div>\n",
              "<style scoped>\n",
              "    .dataframe tbody tr th:only-of-type {\n",
              "        vertical-align: middle;\n",
              "    }\n",
              "\n",
              "    .dataframe tbody tr th {\n",
              "        vertical-align: top;\n",
              "    }\n",
              "\n",
              "    .dataframe thead th {\n",
              "        text-align: right;\n",
              "    }\n",
              "</style>\n",
              "<table border=\"1\" class=\"dataframe\">\n",
              "  <thead>\n",
              "    <tr style=\"text-align: right;\">\n",
              "      <th></th>\n",
              "      <th>Data</th>\n",
              "      <th>Estado</th>\n",
              "      <th>Confirmados</th>\n",
              "      <th>Mortes</th>\n",
              "      <th>E_Ultimo</th>\n",
              "    </tr>\n",
              "  </thead>\n",
              "  <tbody>\n",
              "    <tr>\n",
              "      <th>3</th>\n",
              "      <td>2020-04-01</td>\n",
              "      <td>AC</td>\n",
              "      <td>43</td>\n",
              "      <td>0.0</td>\n",
              "      <td>True</td>\n",
              "    </tr>\n",
              "    <tr>\n",
              "      <th>7</th>\n",
              "      <td>2020-04-01</td>\n",
              "      <td>AL</td>\n",
              "      <td>18</td>\n",
              "      <td>1.0</td>\n",
              "      <td>True</td>\n",
              "    </tr>\n",
              "    <tr>\n",
              "      <th>17</th>\n",
              "      <td>2020-04-01</td>\n",
              "      <td>AM</td>\n",
              "      <td>200</td>\n",
              "      <td>3.0</td>\n",
              "      <td>True</td>\n",
              "    </tr>\n",
              "    <tr>\n",
              "      <th>19</th>\n",
              "      <td>2020-04-01</td>\n",
              "      <td>AP</td>\n",
              "      <td>11</td>\n",
              "      <td>0.0</td>\n",
              "      <td>True</td>\n",
              "    </tr>\n",
              "    <tr>\n",
              "      <th>54</th>\n",
              "      <td>2020-04-01</td>\n",
              "      <td>BA</td>\n",
              "      <td>246</td>\n",
              "      <td>2.0</td>\n",
              "      <td>True</td>\n",
              "    </tr>\n",
              "  </tbody>\n",
              "</table>\n",
              "</div>"
            ],
            "text/plain": [
              "          Data Estado  Confirmados  Mortes  E_Ultimo\n",
              "3   2020-04-01     AC           43     0.0      True\n",
              "7   2020-04-01     AL           18     1.0      True\n",
              "17  2020-04-01     AM          200     3.0      True\n",
              "19  2020-04-01     AP           11     0.0      True\n",
              "54  2020-04-01     BA          246     2.0      True"
            ]
          },
          "metadata": {
            "tags": []
          },
          "execution_count": 146
        }
      ]
    },
    {
      "cell_type": "code",
      "metadata": {
        "id": "c-dO2CiZHCgS",
        "colab_type": "code",
        "colab": {}
      },
      "source": [
        "covid_br = pd.DataFrame()"
      ],
      "execution_count": 0,
      "outputs": []
    },
    {
      "cell_type": "code",
      "metadata": {
        "id": "Dgi7lkBnJOr1",
        "colab_type": "code",
        "colab": {}
      },
      "source": [
        "#estado = \"SP\"\n",
        "#situacao = \"Mortes\"\n",
        "\n",
        "#df_estado = data.loc[data.Estado == estado, : ]\n",
        "#df_estado = df_estado.groupby('Data').sum()[situacao].reset_index()\n",
        "#df_estado = df_estado.drop('Data', axis=1)\n",
        "#df_estado.columns = [estado]\n",
        "\n",
        "#covid_br = pd.concat([covid_br, df_estado], ignore_index=False, axis=1)\n",
        "#covid_br\n"
      ],
      "execution_count": 0,
      "outputs": []
    },
    {
      "cell_type": "code",
      "metadata": {
        "id": "WETjA6HcPCFU",
        "colab_type": "code",
        "colab": {}
      },
      "source": [
        "def comp_estado(data, estados, dias, situacao):\n",
        "    covid_br = pd.DataFrame()\n",
        "\n",
        "    for estado in estados:\n",
        "        try:\n",
        "            df_estado = data.loc[data.Estado == estado, : ]\n",
        "            df_estado = df_estado.groupby('Data').sum()[situacao].reset_index()\n",
        "            df_estado = df_estado.drop('Data', axis=1)\n",
        "            df_estado.columns = [estado]\n",
        "\n",
        "            covid_br = pd.concat([covid_br, df_estado], ignore_index=False, axis=1)\n",
        "        except:\n",
        "            print(\"Alguma informação esta incorreta\")\n",
        "    \n",
        "    return covid_br.head(dias)"
      ],
      "execution_count": 0,
      "outputs": []
    },
    {
      "cell_type": "code",
      "metadata": {
        "id": "CndswaGGP_kR",
        "colab_type": "code",
        "colab": {
          "base_uri": "https://localhost:8080/",
          "height": 282
        },
        "outputId": "c95d3bcc-621a-4f46-fb8b-00ea015ff3cb"
      },
      "source": [
        "comparacao = comp_estado(data, ['MG', 'RJ'], 45 ,'Mortes')\n",
        "comparacao.plot()"
      ],
      "execution_count": 166,
      "outputs": [
        {
          "output_type": "execute_result",
          "data": {
            "text/plain": [
              "<matplotlib.axes._subplots.AxesSubplot at 0x7fdf4fccb2e8>"
            ]
          },
          "metadata": {
            "tags": []
          },
          "execution_count": 166
        },
        {
          "output_type": "display_data",
          "data": {
            "image/png": "[encoded data removed]",
            "text/plain": [
              "<Figure size 432x288 with 1 Axes>"
            ]
          },
          "metadata": {
            "tags": []
          }
        }
      ]
    },
    {
      "cell_type": "code",
      "metadata": {
        "id": "OMdgGy01TxOe",
        "colab_type": "code",
        "colab": {
          "base_uri": "https://localhost:8080/",
          "height": 979
        },
        "outputId": "8eafcdf0-0caf-4eea-b9b1-98fcf3762e7f"
      },
      "source": [
        "comparacao"
      ],
      "execution_count": 162,
      "outputs": [
        {
          "output_type": "execute_result",
          "data": {
            "text/html": [
              "<div>\n",
              "<style scoped>\n",
              "    .dataframe tbody tr th:only-of-type {\n",
              "        vertical-align: middle;\n",
              "    }\n",
              "\n",
              "    .dataframe tbody tr th {\n",
              "        vertical-align: top;\n",
              "    }\n",
              "\n",
              "    .dataframe thead th {\n",
              "        text-align: right;\n",
              "    }\n",
              "</style>\n",
              "<table border=\"1\" class=\"dataframe\">\n",
              "  <thead>\n",
              "    <tr style=\"text-align: right;\">\n",
              "      <th></th>\n",
              "      <th>SP</th>\n",
              "      <th>CE</th>\n",
              "    </tr>\n",
              "  </thead>\n",
              "  <tbody>\n",
              "    <tr>\n",
              "      <th>0</th>\n",
              "      <td>0.0</td>\n",
              "      <td>0.0</td>\n",
              "    </tr>\n",
              "    <tr>\n",
              "      <th>1</th>\n",
              "      <td>0.0</td>\n",
              "      <td>0.0</td>\n",
              "    </tr>\n",
              "    <tr>\n",
              "      <th>2</th>\n",
              "      <td>0.0</td>\n",
              "      <td>0.0</td>\n",
              "    </tr>\n",
              "    <tr>\n",
              "      <th>3</th>\n",
              "      <td>0.0</td>\n",
              "      <td>0.0</td>\n",
              "    </tr>\n",
              "    <tr>\n",
              "      <th>4</th>\n",
              "      <td>0.0</td>\n",
              "      <td>0.0</td>\n",
              "    </tr>\n",
              "    <tr>\n",
              "      <th>5</th>\n",
              "      <td>0.0</td>\n",
              "      <td>0.0</td>\n",
              "    </tr>\n",
              "    <tr>\n",
              "      <th>6</th>\n",
              "      <td>0.0</td>\n",
              "      <td>0.0</td>\n",
              "    </tr>\n",
              "    <tr>\n",
              "      <th>7</th>\n",
              "      <td>0.0</td>\n",
              "      <td>0.0</td>\n",
              "    </tr>\n",
              "    <tr>\n",
              "      <th>8</th>\n",
              "      <td>0.0</td>\n",
              "      <td>0.0</td>\n",
              "    </tr>\n",
              "    <tr>\n",
              "      <th>9</th>\n",
              "      <td>0.0</td>\n",
              "      <td>0.0</td>\n",
              "    </tr>\n",
              "    <tr>\n",
              "      <th>10</th>\n",
              "      <td>0.0</td>\n",
              "      <td>3.0</td>\n",
              "    </tr>\n",
              "    <tr>\n",
              "      <th>11</th>\n",
              "      <td>0.0</td>\n",
              "      <td>3.0</td>\n",
              "    </tr>\n",
              "    <tr>\n",
              "      <th>12</th>\n",
              "      <td>0.0</td>\n",
              "      <td>4.0</td>\n",
              "    </tr>\n",
              "    <tr>\n",
              "      <th>13</th>\n",
              "      <td>0.0</td>\n",
              "      <td>5.0</td>\n",
              "    </tr>\n",
              "    <tr>\n",
              "      <th>14</th>\n",
              "      <td>0.0</td>\n",
              "      <td>5.0</td>\n",
              "    </tr>\n",
              "    <tr>\n",
              "      <th>15</th>\n",
              "      <td>0.0</td>\n",
              "      <td>7.0</td>\n",
              "    </tr>\n",
              "    <tr>\n",
              "      <th>16</th>\n",
              "      <td>0.0</td>\n",
              "      <td>9.0</td>\n",
              "    </tr>\n",
              "    <tr>\n",
              "      <th>17</th>\n",
              "      <td>0.0</td>\n",
              "      <td>NaN</td>\n",
              "    </tr>\n",
              "    <tr>\n",
              "      <th>18</th>\n",
              "      <td>1.0</td>\n",
              "      <td>NaN</td>\n",
              "    </tr>\n",
              "    <tr>\n",
              "      <th>19</th>\n",
              "      <td>3.0</td>\n",
              "      <td>NaN</td>\n",
              "    </tr>\n",
              "    <tr>\n",
              "      <th>20</th>\n",
              "      <td>5.0</td>\n",
              "      <td>NaN</td>\n",
              "    </tr>\n",
              "    <tr>\n",
              "      <th>21</th>\n",
              "      <td>9.0</td>\n",
              "      <td>NaN</td>\n",
              "    </tr>\n",
              "    <tr>\n",
              "      <th>22</th>\n",
              "      <td>15.0</td>\n",
              "      <td>NaN</td>\n",
              "    </tr>\n",
              "    <tr>\n",
              "      <th>23</th>\n",
              "      <td>22.0</td>\n",
              "      <td>NaN</td>\n",
              "    </tr>\n",
              "    <tr>\n",
              "      <th>24</th>\n",
              "      <td>30.0</td>\n",
              "      <td>NaN</td>\n",
              "    </tr>\n",
              "    <tr>\n",
              "      <th>25</th>\n",
              "      <td>40.0</td>\n",
              "      <td>NaN</td>\n",
              "    </tr>\n",
              "    <tr>\n",
              "      <th>26</th>\n",
              "      <td>48.0</td>\n",
              "      <td>NaN</td>\n",
              "    </tr>\n",
              "    <tr>\n",
              "      <th>27</th>\n",
              "      <td>58.0</td>\n",
              "      <td>NaN</td>\n",
              "    </tr>\n",
              "    <tr>\n",
              "      <th>28</th>\n",
              "      <td>68.0</td>\n",
              "      <td>NaN</td>\n",
              "    </tr>\n",
              "    <tr>\n",
              "      <th>29</th>\n",
              "      <td>84.0</td>\n",
              "      <td>NaN</td>\n",
              "    </tr>\n",
              "  </tbody>\n",
              "</table>\n",
              "</div>"
            ],
            "text/plain": [
              "      SP   CE\n",
              "0    0.0  0.0\n",
              "1    0.0  0.0\n",
              "2    0.0  0.0\n",
              "3    0.0  0.0\n",
              "4    0.0  0.0\n",
              "5    0.0  0.0\n",
              "6    0.0  0.0\n",
              "7    0.0  0.0\n",
              "8    0.0  0.0\n",
              "9    0.0  0.0\n",
              "10   0.0  3.0\n",
              "11   0.0  3.0\n",
              "12   0.0  4.0\n",
              "13   0.0  5.0\n",
              "14   0.0  5.0\n",
              "15   0.0  7.0\n",
              "16   0.0  9.0\n",
              "17   0.0  NaN\n",
              "18   1.0  NaN\n",
              "19   3.0  NaN\n",
              "20   5.0  NaN\n",
              "21   9.0  NaN\n",
              "22  15.0  NaN\n",
              "23  22.0  NaN\n",
              "24  30.0  NaN\n",
              "25  40.0  NaN\n",
              "26  48.0  NaN\n",
              "27  58.0  NaN\n",
              "28  68.0  NaN\n",
              "29  84.0  NaN"
            ]
          },
          "metadata": {
            "tags": []
          },
          "execution_count": 162
        }
      ]
    }
  ]
}
